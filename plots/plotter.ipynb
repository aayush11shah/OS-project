{
 "cells": [
  {
   "cell_type": "code",
   "execution_count": 68,
   "id": "4a771b41",
   "metadata": {},
   "outputs": [],
   "source": [
    "import matplotlib.pyplot as plt\n",
    "import pandas as pd\n",
    "plt.style.use('classic')"
   ]
  },
  {
   "cell_type": "code",
   "execution_count": 51,
   "id": "d220c6b7",
   "metadata": {},
   "outputs": [],
   "source": [
    "p1 = pd.read_csv(\"profile_5ms_1.txt\", dtype={'n1': 'int', 'n2': 'int', 'n3': 'int', 'alg': 'str', 'wt_c1': 'float', 'tat_c1': 'float', 'wt_c2': 'float', 'tat_c2': 'float', 'wt_c3': 'float', 'tat_c3': 'float'})\n",
    "p2 = pd.read_csv(\"profile_5ms_2.txt\", dtype={'n1': 'int', 'n2': 'int', 'n3': 'int', 'alg': 'str', 'wt_c1': 'float', 'tat_c1': 'float', 'wt_c2': 'float', 'tat_c2': 'float', 'wt_c3': 'float', 'tat_c3': 'float'})"
   ]
  },
  {
   "cell_type": "code",
   "execution_count": 52,
   "id": "99c5369f",
   "metadata": {},
   "outputs": [],
   "source": [
    "columns = ['n1', 'n2', 'n3', 'alg', 'wt_c1', 'tat_c1', 'wt_c2', 'tat_c2', 'wt_c3', 'tat_c3', 'x']\n",
    "p1.columns = columns\n",
    "p2.columns = columns\n",
    "p1 = p1[['n1', 'n2', 'n3', 'alg', 'wt_c1', 'tat_c1', 'wt_c2', 'tat_c2', 'wt_c3', 'tat_c3']]\n",
    "p2 = p2[['n1', 'n2', 'n3', 'alg', 'wt_c1', 'tat_c1', 'wt_c2', 'tat_c2', 'wt_c3', 'tat_c3']]\n",
    "p1 = p1.convert_dtypes()\n",
    "p2 = p2.convert_dtypes()"
   ]
  },
  {
   "cell_type": "code",
   "execution_count": 73,
   "id": "3f727f26",
   "metadata": {
    "scrolled": true
   },
   "outputs": [],
   "source": [
    "rr_n1_1 = p1.loc[(p1['n2']==100000) & (p1['n3']==100000) & (p1['alg']==' RR')]\n",
    "rr_n1_2 = p2.loc[(p2['n2']==100000) & (p2['n3']==100000) & (p2['alg']==' RR')]"
   ]
  },
  {
   "cell_type": "code",
   "execution_count": 28,
   "id": "69bd54f5",
   "metadata": {},
   "outputs": [
    {
     "data": {
      "text/html": [
       "<div>\n",
       "<style scoped>\n",
       "    .dataframe tbody tr th:only-of-type {\n",
       "        vertical-align: middle;\n",
       "    }\n",
       "\n",
       "    .dataframe tbody tr th {\n",
       "        vertical-align: top;\n",
       "    }\n",
       "\n",
       "    .dataframe thead th {\n",
       "        text-align: right;\n",
       "    }\n",
       "</style>\n",
       "<table border=\"1\" class=\"dataframe\">\n",
       "  <thead>\n",
       "    <tr style=\"text-align: right;\">\n",
       "      <th></th>\n",
       "      <th>n1</th>\n",
       "      <th>n2</th>\n",
       "      <th>n3</th>\n",
       "      <th>alg</th>\n",
       "      <th>wt_c1</th>\n",
       "      <th>tat_c1</th>\n",
       "      <th>wt_c2</th>\n",
       "      <th>tat_c2</th>\n",
       "      <th>wt_c3</th>\n",
       "      <th>tat_c3</th>\n",
       "    </tr>\n",
       "  </thead>\n",
       "  <tbody>\n",
       "    <tr>\n",
       "      <th>56</th>\n",
       "      <td>10</td>\n",
       "      <td>100000</td>\n",
       "      <td>100000</td>\n",
       "      <td>RR</td>\n",
       "      <td>0.016</td>\n",
       "      <td>50.291</td>\n",
       "      <td>187.454</td>\n",
       "      <td>413.422</td>\n",
       "      <td>87.149</td>\n",
       "      <td>103.751</td>\n",
       "    </tr>\n",
       "    <tr>\n",
       "      <th>57</th>\n",
       "      <td>10</td>\n",
       "      <td>100000</td>\n",
       "      <td>100000</td>\n",
       "      <td>FCFS</td>\n",
       "      <td>0.019</td>\n",
       "      <td>25.172</td>\n",
       "      <td>25.180</td>\n",
       "      <td>1116.009</td>\n",
       "      <td>1116.035</td>\n",
       "      <td>1133.680</td>\n",
       "    </tr>\n",
       "    <tr>\n",
       "      <th>128</th>\n",
       "      <td>100</td>\n",
       "      <td>100000</td>\n",
       "      <td>100000</td>\n",
       "      <td>RR</td>\n",
       "      <td>0.019</td>\n",
       "      <td>54.345</td>\n",
       "      <td>176.683</td>\n",
       "      <td>397.659</td>\n",
       "      <td>95.073</td>\n",
       "      <td>111.569</td>\n",
       "    </tr>\n",
       "    <tr>\n",
       "      <th>129</th>\n",
       "      <td>100</td>\n",
       "      <td>100000</td>\n",
       "      <td>100000</td>\n",
       "      <td>FCFS</td>\n",
       "      <td>0.025</td>\n",
       "      <td>32.519</td>\n",
       "      <td>32.541</td>\n",
       "      <td>1246.781</td>\n",
       "      <td>1246.787</td>\n",
       "      <td>1283.752</td>\n",
       "    </tr>\n",
       "    <tr>\n",
       "      <th>200</th>\n",
       "      <td>1000</td>\n",
       "      <td>100000</td>\n",
       "      <td>100000</td>\n",
       "      <td>RR</td>\n",
       "      <td>0.060</td>\n",
       "      <td>24.699</td>\n",
       "      <td>152.630</td>\n",
       "      <td>367.703</td>\n",
       "      <td>53.573</td>\n",
       "      <td>66.620</td>\n",
       "    </tr>\n",
       "    <tr>\n",
       "      <th>201</th>\n",
       "      <td>1000</td>\n",
       "      <td>100000</td>\n",
       "      <td>100000</td>\n",
       "      <td>FCFS</td>\n",
       "      <td>0.024</td>\n",
       "      <td>26.570</td>\n",
       "      <td>26.574</td>\n",
       "      <td>931.530</td>\n",
       "      <td>931.592</td>\n",
       "      <td>949.022</td>\n",
       "    </tr>\n",
       "    <tr>\n",
       "      <th>272</th>\n",
       "      <td>10000</td>\n",
       "      <td>100000</td>\n",
       "      <td>100000</td>\n",
       "      <td>RR</td>\n",
       "      <td>0.020</td>\n",
       "      <td>35.373</td>\n",
       "      <td>183.808</td>\n",
       "      <td>381.269</td>\n",
       "      <td>74.334</td>\n",
       "      <td>101.973</td>\n",
       "    </tr>\n",
       "    <tr>\n",
       "      <th>273</th>\n",
       "      <td>10000</td>\n",
       "      <td>100000</td>\n",
       "      <td>100000</td>\n",
       "      <td>FCFS</td>\n",
       "      <td>0.023</td>\n",
       "      <td>32.911</td>\n",
       "      <td>32.918</td>\n",
       "      <td>1177.109</td>\n",
       "      <td>1177.131</td>\n",
       "      <td>1217.823</td>\n",
       "    </tr>\n",
       "    <tr>\n",
       "      <th>344</th>\n",
       "      <td>100000</td>\n",
       "      <td>100000</td>\n",
       "      <td>100000</td>\n",
       "      <td>RR</td>\n",
       "      <td>0.090</td>\n",
       "      <td>35.670</td>\n",
       "      <td>198.117</td>\n",
       "      <td>371.034</td>\n",
       "      <td>78.272</td>\n",
       "      <td>103.942</td>\n",
       "    </tr>\n",
       "    <tr>\n",
       "      <th>345</th>\n",
       "      <td>100000</td>\n",
       "      <td>100000</td>\n",
       "      <td>100000</td>\n",
       "      <td>FCFS</td>\n",
       "      <td>0.025</td>\n",
       "      <td>35.509</td>\n",
       "      <td>35.515</td>\n",
       "      <td>1088.745</td>\n",
       "      <td>1088.749</td>\n",
       "      <td>1115.693</td>\n",
       "    </tr>\n",
       "    <tr>\n",
       "      <th>416</th>\n",
       "      <td>1000000</td>\n",
       "      <td>100000</td>\n",
       "      <td>100000</td>\n",
       "      <td>RR</td>\n",
       "      <td>0.027</td>\n",
       "      <td>39.971</td>\n",
       "      <td>148.599</td>\n",
       "      <td>349.303</td>\n",
       "      <td>66.806</td>\n",
       "      <td>82.905</td>\n",
       "    </tr>\n",
       "    <tr>\n",
       "      <th>417</th>\n",
       "      <td>1000000</td>\n",
       "      <td>100000</td>\n",
       "      <td>100000</td>\n",
       "      <td>FCFS</td>\n",
       "      <td>0.026</td>\n",
       "      <td>20.584</td>\n",
       "      <td>20.592</td>\n",
       "      <td>1143.281</td>\n",
       "      <td>1143.285</td>\n",
       "      <td>1158.606</td>\n",
       "    </tr>\n",
       "  </tbody>\n",
       "</table>\n",
       "</div>"
      ],
      "text/plain": [
       "          n1      n2      n3    alg  wt_c1  tat_c1    wt_c2    tat_c2  \\\n",
       "56        10  100000  100000     RR  0.016  50.291  187.454   413.422   \n",
       "57        10  100000  100000   FCFS  0.019  25.172   25.180  1116.009   \n",
       "128      100  100000  100000     RR  0.019  54.345  176.683   397.659   \n",
       "129      100  100000  100000   FCFS  0.025  32.519   32.541  1246.781   \n",
       "200     1000  100000  100000     RR  0.060  24.699  152.630   367.703   \n",
       "201     1000  100000  100000   FCFS  0.024  26.570   26.574   931.530   \n",
       "272    10000  100000  100000     RR  0.020  35.373  183.808   381.269   \n",
       "273    10000  100000  100000   FCFS  0.023  32.911   32.918  1177.109   \n",
       "344   100000  100000  100000     RR  0.090  35.670  198.117   371.034   \n",
       "345   100000  100000  100000   FCFS  0.025  35.509   35.515  1088.745   \n",
       "416  1000000  100000  100000     RR  0.027  39.971  148.599   349.303   \n",
       "417  1000000  100000  100000   FCFS  0.026  20.584   20.592  1143.281   \n",
       "\n",
       "        wt_c3    tat_c3  \n",
       "56     87.149   103.751  \n",
       "57   1116.035  1133.680  \n",
       "128    95.073   111.569  \n",
       "129  1246.787  1283.752  \n",
       "200    53.573    66.620  \n",
       "201   931.592   949.022  \n",
       "272    74.334   101.973  \n",
       "273  1177.131  1217.823  \n",
       "344    78.272   103.942  \n",
       "345  1088.749  1115.693  \n",
       "416    66.806    82.905  \n",
       "417  1143.285  1158.606  "
      ]
     },
     "execution_count": 28,
     "metadata": {},
     "output_type": "execute_result"
    }
   ],
   "source": [
    "p2.loc[(p1['n2']==100000) & (p1['n3']==100000)]"
   ]
  },
  {
   "cell_type": "code",
   "execution_count": 75,
   "id": "9653830c",
   "metadata": {
    "collapsed": true
   },
   "outputs": [
    {
     "data": {
      "text/plain": [
       "<matplotlib.legend.Legend at 0x1c9b55239d0>"
      ]
     },
     "execution_count": 75,
     "metadata": {},
     "output_type": "execute_result"
    },
    {
     "data": {
      "image/png": "[encoded data removed]",
      "text/plain": [
       "<Figure size 640x480 with 1 Axes>"
      ]
     },
     "metadata": {},
     "output_type": "display_data"
    }
   ],
   "source": [
    "plt.plot([1,2,3,4,5,6], list((rr_n1_1['tat_c1'] + rr_n1_2['tat_c1']) / 2), color='r', label='C1')\n",
    "plt.plot([1,2,3,4,5,6], list((rr_n1_1['tat_c2'] + rr_n1_2['tat_c2']) / 2), color='g', label='C2')\n",
    "plt.plot([1,2,3,4,5,6], list((rr_n1_1['tat_c3'] + rr_n1_2['tat_c3']) / 2), color='b', label='C3')\n",
    "plt.legend()"
   ]
  },
  {
   "cell_type": "code",
   "execution_count": null,
   "id": "32c0c8f9",
   "metadata": {},
   "outputs": [],
   "source": []
  },
  {
   "cell_type": "code",
   "execution_count": 60,
   "id": "2343a785",
   "metadata": {
    "scrolled": true
   },
   "outputs": [
    {
     "data": {
      "text/plain": [
       "[25.639, 17.885, 39.408, 23.955, 38.024, 26.873]"
      ]
     },
     "execution_count": 60,
     "metadata": {},
     "output_type": "execute_result"
    }
   ],
   "source": [
    "list(rr_n1['tat_c1'])"
   ]
  },
  {
   "cell_type": "code",
   "execution_count": 82,
   "id": "b5d6ab63",
   "metadata": {},
   "outputs": [],
   "source": [
    "procs = ['c1', 'c2', 'c3']\n",
    "metrics = ['tat', 'wt']\n",
    "algs = [' RR', ' FCFS']\n",
    "variations = ['n1', 'n2', 'n3']\n",
    "fixtime = 10000"
   ]
  },
  {
   "cell_type": "code",
   "execution_count": 87,
   "id": "88053614",
   "metadata": {},
   "outputs": [
    {
     "data": {
      "text/plain": [
       "<Figure size 640x480 with 0 Axes>"
      ]
     },
     "metadata": {},
     "output_type": "display_data"
    }
   ],
   "source": [
    "## RR\n",
    "for metric in metrics:\n",
    "    sl1 = p1.loc[(p1['n2']==fixtime) & (p1['n3']==fixtime) & (p1['alg']==' RR')]\n",
    "    sl2 = p2.loc[(p2['n2']==fixtime) & (p2['n3']==fixtime) & (p2['alg']==' RR')]\n",
    "    plt.plot([1,2,3,4,5,6], list((sl1[metric+'_c1'] + sl2[metric+'_c1']) / 2), color='r', label='C1')\n",
    "    plt.plot([1,2,3,4,5,6], list((sl1[metric+'_c2'] + sl2[metric+'_c2']) / 2), color='g', label='C2')\n",
    "    plt.plot([1,2,3,4,5,6], list((sl1[metric+'_c3'] + sl2[metric+'_c3']) / 2), color='b', label='C3')\n",
    "    plt.title(\"Round Robin\")\n",
    "    plt.xlabel(\"log(n1)\")\n",
    "    plt.ylabel(metric.upper() + ' in ms')\n",
    "    plt.legend()\n",
    "    plt.savefig(\"rr_\"+metric+\"_n1\")\n",
    "    plt.clf()\n",
    "    \n",
    "    sl1 = p1.loc[(p1['n1']==fixtime) & (p1['n3']==fixtime) & (p1['alg']==' RR')]\n",
    "    sl2 = p2.loc[(p2['n1']==fixtime) & (p2['n3']==fixtime) & (p2['alg']==' RR')]\n",
    "    plt.plot([1,2,3,4,5,6], list((sl1[metric+'_c1'] + sl2[metric+'_c1']) / 2), color='r', label='C1')\n",
    "    plt.plot([1,2,3,4,5,6], list((sl1[metric+'_c2'] + sl2[metric+'_c2']) / 2), color='g', label='C2')\n",
    "    plt.plot([1,2,3,4,5,6], list((sl1[metric+'_c3'] + sl2[metric+'_c3']) / 2), color='b', label='C3')\n",
    "    plt.title(\"Round Robin\")\n",
    "    plt.xlabel(\"log(n2)\")\n",
    "    plt.ylabel(metric.upper() + ' in ms')\n",
    "    plt.legend()\n",
    "    plt.savefig(\"rr_\"+metric+\"_n2\")\n",
    "    plt.clf()\n",
    "    \n",
    "    sl1 = p1.loc[(p1['n1']==fixtime) & (p1['n2']==fixtime) & (p1['alg']==' RR')]\n",
    "    sl2 = p2.loc[(p2['n1']==fixtime) & (p2['n2']==fixtime) & (p2['alg']==' RR')]\n",
    "    plt.plot([1,2,3,4,5,6], list((sl1[metric+'_c1'] + sl2[metric+'_c1']) / 2), color='r', label='C1')\n",
    "    plt.plot([1,2,3,4,5,6], list((sl1[metric+'_c2'] + sl2[metric+'_c2']) / 2), color='g', label='C2')\n",
    "    plt.plot([1,2,3,4,5,6], list((sl1[metric+'_c3'] + sl2[metric+'_c3']) / 2), color='b', label='C3')\n",
    "    plt.title(\"Round Robin\")\n",
    "    plt.xlabel(\"log(n3)\")\n",
    "    plt.ylabel(metric.upper() + ' in ms')\n",
    "    plt.legend()\n",
    "    plt.savefig(\"rr_\"+metric+\"_n3\")\n",
    "    plt.clf()"
   ]
  },
  {
   "cell_type": "code",
   "execution_count": 88,
   "id": "eb723783",
   "metadata": {},
   "outputs": [
    {
     "data": {
      "text/plain": [
       "<Figure size 640x480 with 0 Axes>"
      ]
     },
     "metadata": {},
     "output_type": "display_data"
    }
   ],
   "source": [
    "## FCFS\n",
    "for metric in metrics:\n",
    "    sl1 = p1.loc[(p1['n2']==fixtime) & (p1['n3']==fixtime) & (p1['alg']==' FCFS')]\n",
    "    sl2 = p2.loc[(p2['n2']==fixtime) & (p2['n3']==fixtime) & (p2['alg']==' FCFS')]\n",
    "    plt.plot([1,2,3,4,5,6], list((sl1[metric+'_c1'] + sl2[metric+'_c1']) / 2), color='r', label='C1')\n",
    "    plt.plot([1,2,3,4,5,6], list((sl1[metric+'_c2'] + sl2[metric+'_c2']) / 2), color='g', label='C2')\n",
    "    plt.plot([1,2,3,4,5,6], list((sl1[metric+'_c3'] + sl2[metric+'_c3']) / 2), color='b', label='C3')\n",
    "    plt.title(\"First Come First Serve\")\n",
    "    plt.xlabel(\"log(n1)\")\n",
    "    plt.ylabel(metric.upper() + ' in ms')\n",
    "    plt.legend()\n",
    "    plt.savefig(\"fcfs_\"+metric+\"_n1\")\n",
    "    plt.clf()\n",
    "    \n",
    "    sl1 = p1.loc[(p1['n1']==fixtime) & (p1['n3']==fixtime) & (p1['alg']==' FCFS')]\n",
    "    sl2 = p2.loc[(p2['n1']==fixtime) & (p2['n3']==fixtime) & (p2['alg']==' FCFS')]\n",
    "    plt.plot([1,2,3,4,5,6], list((sl1[metric+'_c1'] + sl2[metric+'_c1']) / 2), color='r', label='C1')\n",
    "    plt.plot([1,2,3,4,5,6], list((sl1[metric+'_c2'] + sl2[metric+'_c2']) / 2), color='g', label='C2')\n",
    "    plt.plot([1,2,3,4,5,6], list((sl1[metric+'_c3'] + sl2[metric+'_c3']) / 2), color='b', label='C3')\n",
    "    plt.title(\"First Come First Serve\")\n",
    "    plt.xlabel(\"log(n2)\")\n",
    "    plt.ylabel(metric.upper() + ' in ms')\n",
    "    plt.legend()\n",
    "    plt.savefig(\"fcfs_\"+metric+\"_n2\")\n",
    "    plt.clf()\n",
    "    \n",
    "    sl1 = p1.loc[(p1['n1']==fixtime) & (p1['n2']==fixtime) & (p1['alg']==' FCFS')]\n",
    "    sl2 = p2.loc[(p2['n1']==fixtime) & (p2['n2']==fixtime) & (p2['alg']==' FCFS')]\n",
    "    plt.plot([1,2,3,4,5,6], list((sl1[metric+'_c1'] + sl2[metric+'_c1']) / 2), color='r', label='C1')\n",
    "    plt.plot([1,2,3,4,5,6], list((sl1[metric+'_c2'] + sl2[metric+'_c2']) / 2), color='g', label='C2')\n",
    "    plt.plot([1,2,3,4,5,6], list((sl1[metric+'_c3'] + sl2[metric+'_c3']) / 2), color='b', label='C3')\n",
    "    plt.title(\"First Come First Serve\")\n",
    "    plt.xlabel(\"log(n3)\")\n",
    "    plt.ylabel(metric.upper() + ' in ms')\n",
    "    plt.legend()\n",
    "    plt.savefig(\"fcfs_\"+metric+\"_n3\")\n",
    "    plt.clf()"
   ]
  },
  {
   "cell_type": "code",
   "execution_count": null,
   "id": "a2ec12d1",
   "metadata": {},
   "outputs": [],
   "source": []
  }
 ],
 "metadata": {
  "kernelspec": {
   "display_name": "Python 3 (ipykernel)",
   "language": "python",
   "name": "python3"
  },
  "language_info": {
   "codemirror_mode": {
    "name": "ipython",
    "version": 3
   },
   "file_extension": ".py",
   "mimetype": "text/x-python",
   "name": "python",
   "nbconvert_exporter": "python",
   "pygments_lexer": "ipython3",
   "version": "3.9.7"
  }
 },
 "nbformat": 4,
 "nbformat_minor": 5
}
